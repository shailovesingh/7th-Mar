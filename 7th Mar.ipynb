{
 "cells": [
  {
   "cell_type": "markdown",
   "id": "5f72e4a1-72c4-4eda-bdb9-ff243d49b09e",
   "metadata": {},
   "source": [
    "***Q1. What are the three measures of central tendency?***\n",
    "\n",
    "**Measure of Central Tendency**\n",
    "\n",
    "1. Arithmetic Mean:\n",
    "It is nothing but the average of a dataset. It is calculated by adding all the values and then dividing them by the no. of observations.\n",
    "\n",
    "Formula: Mean = ∑x/n\n",
    "\n",
    "2. Median:\n",
    "The median is the middle value in distribution when the values are arranged in an order, say ascending or descending order. It is used to measure central tendency when the datasheet is not huge.\n",
    "\n",
    "In a distribution with an odd number of observations, the middle value is the median. When the distribution is with an even number of observations, the median is calculated by calculating the mean of the two middle values.\n",
    "\n",
    "3. Mode:\n",
    "Mode is the most frequently occurring value in a distribution. It is possible to have more than one mode in a distribution. Such distributions are called bimodal or multimodal."
   ]
  },
  {
   "cell_type": "code",
   "execution_count": null,
   "id": "c83e9a02-257c-4649-8eaa-8a671b0af4f0",
   "metadata": {},
   "outputs": [],
   "source": []
  },
  {
   "cell_type": "markdown",
   "id": "d3bce010-288e-4932-a6d2-277133c6fae8",
   "metadata": {},
   "source": [
    "***Q2. What is the difference between the mean, median, and mode? How are they used to measure the central tendency of a dataset?***\n",
    "\n",
    "The mean, median, and mode are all measures of central tendency used to describe the typical or central value in a dataset. However, they differ in the way they are calculated and in their interpretation.\n",
    "\n",
    "The mean is the sum of all the values in the dataset divided by the total number of values. It is affected by extreme values, or outliers, in the dataset and may not be a good representation of the central tendency if the dataset has a skewed distribution.\n",
    "\n",
    "The median is the middle value in the dataset, such that half of the values are greater than or equal to the median, and the other half are less than or equal to the median. The median is less sensitive to outliers than the mean and is a better measure of central tendency for skewed distributions.\n",
    "\n",
    "The mode is the value that occurs most frequently in the dataset. It is not affected by extreme values, but it may not exist or may not be unique if there are multiple values with the same frequency.\n",
    "\n",
    "In practice, the choice of the measure of central tendency depends on the characteristics of the dataset and the research question. For example, the mean is often used when the dataset has a normal distribution, while the median is preferred when the dataset is skewed. The mode is often used when describing categorical data or when looking for the most typical value in a dataset.\n",
    "\n",
    "Overall, the mean, median, and mode are all useful measures of central tendency and should be used in conjunction with other statistical methods to fully describe a dataset."
   ]
  },
  {
   "cell_type": "code",
   "execution_count": null,
   "id": "fe8e16de-dcc5-4cc9-824d-408e62e3d2c0",
   "metadata": {},
   "outputs": [],
   "source": []
  },
  {
   "cell_type": "markdown",
   "id": "44fad835-1452-4091-8466-a3e7200a4047",
   "metadata": {},
   "source": [
    "***Q3. Measure the three measures of central tendency for the given height data:***\n",
    "\n",
    "[178,177,176,177,178.2,178,175,179,180,175,178.9,176.2,177,172.5,178,176.5]"
   ]
  },
  {
   "cell_type": "code",
   "execution_count": 1,
   "id": "22af60aa-b055-4d7a-b425-905512d121ff",
   "metadata": {},
   "outputs": [],
   "source": [
    "data3 = [178,177,176,177,178.2,178,175,179,180,175,178.9,176.2,177,172.5,178,176.5]"
   ]
  },
  {
   "cell_type": "code",
   "execution_count": 2,
   "id": "e24c9181-fbce-404c-a5ce-f0092fe02936",
   "metadata": {},
   "outputs": [],
   "source": [
    "import numpy as np\n",
    "import scipy.stats as stat"
   ]
  },
  {
   "cell_type": "markdown",
   "id": "2aa9265a-6d90-4829-b762-586d1e7d2f44",
   "metadata": {},
   "source": [
    "1. Mean"
   ]
  },
  {
   "cell_type": "code",
   "execution_count": 3,
   "id": "7c4c0c6c-ec33-40cb-97c7-94ea4f36e8ed",
   "metadata": {},
   "outputs": [
    {
     "name": "stdout",
     "output_type": "stream",
     "text": [
      "Mean is: 177.01875\n"
     ]
    }
   ],
   "source": [
    "mean = np.mean(data3)\n",
    "print('Mean is:',mean)"
   ]
  },
  {
   "cell_type": "markdown",
   "id": "82c5e073-eb92-499f-a058-638cd1282e14",
   "metadata": {},
   "source": [
    "2. Median"
   ]
  },
  {
   "cell_type": "code",
   "execution_count": 5,
   "id": "0bfa902b-7c97-48ac-9722-9157fe5f1dc8",
   "metadata": {},
   "outputs": [
    {
     "name": "stdout",
     "output_type": "stream",
     "text": [
      "Median is: 177.0\n"
     ]
    }
   ],
   "source": [
    "median = np.median(data3)\n",
    "print('Median is:',median)"
   ]
  },
  {
   "cell_type": "markdown",
   "id": "fa8d8709-da0d-4b8a-90ac-9eb906b4769a",
   "metadata": {},
   "source": [
    "3. Mode"
   ]
  },
  {
   "cell_type": "code",
   "execution_count": 9,
   "id": "8c2a07ac-5e72-4970-9874-df7d8f3a5928",
   "metadata": {},
   "outputs": [
    {
     "name": "stdout",
     "output_type": "stream",
     "text": [
      "mode is: ModeResult(mode=array([177.]), count=array([3]))\n"
     ]
    },
    {
     "name": "stderr",
     "output_type": "stream",
     "text": [
      "/tmp/ipykernel_103/3516476300.py:1: FutureWarning: Unlike other reduction functions (e.g. `skew`, `kurtosis`), the default behavior of `mode` typically preserves the axis it acts along. In SciPy 1.11.0, this behavior will change: the default value of `keepdims` will become False, the `axis` over which the statistic is taken will be eliminated, and the value None will no longer be accepted. Set `keepdims` to True or False to avoid this warning.\n",
      "  mode = stat.mode(data3)\n"
     ]
    }
   ],
   "source": [
    "mode = stat.mode(data3)\n",
    "print('mode is:',mode)"
   ]
  },
  {
   "cell_type": "code",
   "execution_count": null,
   "id": "1a57778b-7c69-46d5-b242-acf95b5f97ac",
   "metadata": {},
   "outputs": [],
   "source": []
  },
  {
   "cell_type": "markdown",
   "id": "abc0df74-add1-4d65-937b-8bc5e94e63fc",
   "metadata": {},
   "source": [
    "***Q4. Find the standard deviation for the given data:***\n",
    "    \n",
    "[178,177,176,177,178.2,178,175,179,180,175,178.9,176.2,177,172.5,178,176.5]"
   ]
  },
  {
   "cell_type": "code",
   "execution_count": 10,
   "id": "a35cff25-4877-4c41-a381-7558799f6ea1",
   "metadata": {},
   "outputs": [
    {
     "name": "stdout",
     "output_type": "stream",
     "text": [
      "Standard Deviation is 1.7885814036548633\n"
     ]
    }
   ],
   "source": [
    "data4 = [178,177,176,177,178.2,178,175,179,180,175,178.9,176.2,177,172.5,178,176.5]\n",
    "std = np.std(data4)\n",
    "print('Standard Deviation is',std)"
   ]
  },
  {
   "cell_type": "code",
   "execution_count": null,
   "id": "c230dd99-bab7-45b0-9839-7f83091a6fd6",
   "metadata": {},
   "outputs": [],
   "source": []
  },
  {
   "cell_type": "markdown",
   "id": "eeb72ea7-5805-4e73-a48f-be0c41722dd6",
   "metadata": {},
   "source": []
  }
 ],
 "metadata": {
  "kernelspec": {
   "display_name": "Python 3 (ipykernel)",
   "language": "python",
   "name": "python3"
  },
  "language_info": {
   "codemirror_mode": {
    "name": "ipython",
    "version": 3
   },
   "file_extension": ".py",
   "mimetype": "text/x-python",
   "name": "python",
   "nbconvert_exporter": "python",
   "pygments_lexer": "ipython3",
   "version": "3.10.8"
  }
 },
 "nbformat": 4,
 "nbformat_minor": 5
}
